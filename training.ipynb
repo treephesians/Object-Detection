{
 "cells": [
  {
   "cell_type": "code",
   "execution_count": null,
   "id": "10580a9d-e848-4b3c-a8cd-3e9d21f5d055",
   "metadata": {},
   "outputs": [],
   "source": [
    "import os\n",
    "os.getcwd()"
   ]
  },
  {
   "cell_type": "markdown",
   "id": "9c3e89c8-eadb-40ec-b415-cf40fe3d333d",
   "metadata": {},
   "source": [
    "***\n",
    "### Setting"
   ]
  },
  {
   "cell_type": "code",
   "execution_count": null,
   "id": "2c5346a2-a902-40a5-b1c5-eff0931bfe23",
   "metadata": {},
   "outputs": [],
   "source": [
    "import shutil\n",
    "\n",
    "filename = './yolov7.zip' # 압축해제할 파일\n",
    "extract_dir = './yolov7/' # 압축해제 시 폴더 이름\n",
    "archive_format = 'zip'\n",
    "\n",
    "shutil.unpack_archive(filename, extract_dir, archive_format)"
   ]
  },
  {
   "cell_type": "code",
   "execution_count": null,
   "id": "9457b05e-4f73-4023-bb82-69fa178f9640",
   "metadata": {},
   "outputs": [],
   "source": [
    "cd /storage01/shared_data/users/junbeom/yolov7"
   ]
  },
  {
   "cell_type": "code",
   "execution_count": null,
   "id": "69f9f67a-1281-41b3-9778-323f6e5a1a96",
   "metadata": {},
   "outputs": [],
   "source": [
    "!pip install -r requirements.txt"
   ]
  },
  {
   "cell_type": "code",
   "execution_count": null,
   "id": "dc20d211-be76-40cc-9985-a2b616abc725",
   "metadata": {},
   "outputs": [],
   "source": [
    "# download COCO starting checkpoint\n",
    "!wget https://github.com/WongKinYiu/yolov7/releases/download/v0.1/yolov7_training.pt"
   ]
  },
  {
   "cell_type": "code",
   "execution_count": null,
   "id": "8cfef3c0-6cc3-47a0-a3dc-8e8ceb8e0b06",
   "metadata": {},
   "outputs": [],
   "source": [
    "def get_files_count(folder_path):\n",
    "\tdirListing = os.listdir(folder_path)\n",
    "\treturn len(dirListing)"
   ]
  },
  {
   "cell_type": "markdown",
   "id": "e85ee4d0-9c17-4663-a606-fd9301a1c471",
   "metadata": {},
   "source": [
    "***\n",
    "### Case1. When you use Roboflow dataset"
   ]
  },
  {
   "cell_type": "code",
   "execution_count": null,
   "id": "a444159c-9660-4e31-aa78-ed8993687251",
   "metadata": {},
   "outputs": [],
   "source": [
    "!pip install roboflow\n",
    "\n",
    "from roboflow import Roboflow\n",
    "rf = Roboflow(api_key=\"krpEWc68T11RGholsQfo\")\n",
    "project = rf.workspace(\"practice-e7n5e\").project(\"monkey-r5lq3\")\n",
    "dataset = project.version(1).download(\"yolov7\")"
   ]
  },
  {
   "cell_type": "code",
   "execution_count": null,
   "id": "c24378be-ca0b-4a1e-9e70-63da873611e6",
   "metadata": {},
   "outputs": [],
   "source": [
    "img_folder_name = input()\n",
    "!mv /storage01/shared_data/users/junbeom/yolov7/{img_folder_name} /storage01/shared_data/users/junbeom/yolov7/images/{img_folder_name}\n",
    "dataset.location = f'/storage01/shared_data/users/junbeom/yolov7/images/{img_folder_name}'\n",
    "print(dataset.location)"
   ]
  },
  {
   "cell_type": "markdown",
   "id": "70b789d9-4a78-4f16-b54b-8c391c4eda86",
   "metadata": {},
   "source": [
    "roboflow 로 데이터셋 받은 후, yaml 파일 수정하는 코드 짜기!"
   ]
  },
  {
   "cell_type": "markdown",
   "id": "e13fa00e-1f98-40f6-997f-a4a932a48f41",
   "metadata": {},
   "source": [
    "***\n",
    "### Case2. When you use local dataset"
   ]
  },
  {
   "cell_type": "code",
   "execution_count": null,
   "id": "b0d2d931-2ee5-4eb9-bb44-eab9fbfb57bf",
   "metadata": {},
   "outputs": [],
   "source": [
    "import shutil\n",
    "\n",
    "img_folder_name = input()\n",
    "filename = f'/storage01/shared_data/users/junbeom/yolov7/images/{img_folder_name}.zip' # 압축해제할 파일\n",
    "extract_dir = f'/storage01/shared_data/users/junbeom/yolov7/images/{img_folder_name}' # 압축해제 시 폴더 이름\n",
    "archive_format = 'zip'\n",
    "\n",
    "shutil.unpack_archive(filename, extract_dir, archive_format)"
   ]
  },
  {
   "cell_type": "markdown",
   "id": "b3ebddcd-0a58-4e0a-82d0-c51f5db740ac",
   "metadata": {},
   "source": [
    "***\n",
    "### Train Start!"
   ]
  },
  {
   "cell_type": "code",
   "execution_count": 162,
   "id": "69d1fe84-565b-4432-9ada-78d7e9b00f1c",
   "metadata": {},
   "outputs": [
    {
     "name": "stdout",
     "output_type": "stream",
     "text": [
      "train 480\n",
      "valid 105\n",
      "test  15\n"
     ]
    }
   ],
   "source": [
    "n_train = get_files_count(f\"/storage01/shared_data/users/junbeom/yolov7/images/{img_folder_name}/train/images\")\n",
    "n_valid = get_files_count(f\"/storage01/shared_data/users/junbeom/yolov7/images/{img_folder_name}/valid/images\")\n",
    "n_test = get_files_count(f\"/storage01/shared_data/users/junbeom/yolov7/images/{img_folder_name}/test/images\")\n",
    "print(f\"train {n_train}\\nvalid {n_valid}\\ntest  {n_test}\")"
   ]
  },
  {
   "cell_type": "code",
   "execution_count": null,
   "id": "75a70368-3a9f-441e-adac-480f8cc7bd0f",
   "metadata": {},
   "outputs": [],
   "source": [
    "keyword = input()"
   ]
  },
  {
   "cell_type": "code",
   "execution_count": null,
   "id": "76c89542-2106-404e-b286-6abff186aab3",
   "metadata": {},
   "outputs": [],
   "source": [
    "dataset.location"
   ]
  },
  {
   "cell_type": "code",
   "execution_count": null,
   "id": "e4caa140-24b1-4a65-8a83-346fa7950fe0",
   "metadata": {},
   "outputs": [],
   "source": [
    "dataset.location = f'/storage01/shared_data/users/junbeom/yolov7/images/{img_folder_name}'\n",
    "dataset.location"
   ]
  },
  {
   "cell_type": "code",
   "execution_count": null,
   "id": "9955622b-273e-4813-b8ba-50296a073aec",
   "metadata": {},
   "outputs": [],
   "source": [
    "!python train.py --batch 16 --epochs 40 --data {dataset.location}/data.yaml --name {keyword} --weights 'yolov7_training.pt' --device 0\n",
    "#!python train.py --batch 16 --epochs 40 --data {dataset.location}/data.yaml --name {keyword}_ --weights 'yolov7.pt' --device 0\n",
    "#!python train.py --batch 16 --epochs 40 --data {dataset.location}/data.yaml --name {keyword}_tiny --weights 'yolov7-tiny.pt' --device 0"
   ]
  },
  {
   "cell_type": "markdown",
   "id": "403e796f-7184-4f48-ba71-db30a66d3573",
   "metadata": {},
   "source": [
    "***\n",
    "### Detect"
   ]
  },
  {
   "cell_type": "code",
   "execution_count": null,
   "id": "0b2e2558-2945-497e-9432-7030f7011771",
   "metadata": {},
   "outputs": [],
   "source": [
    "# Run evaluation\n",
    "!python detect.py --weights runs/train/{keyword}/weights/best.pt --conf 0.2 --source {dataset.location}/test/images --name {keyword}"
   ]
  },
  {
   "cell_type": "code",
   "execution_count": null,
   "id": "62197b8d-9aea-46fc-b32e-3e01d78db019",
   "metadata": {},
   "outputs": [],
   "source": [
    "#display inference on ALL test images\n",
    "\n",
    "import glob\n",
    "from IPython.display import Image, display\n",
    "\n",
    "i = 0\n",
    "limit = 10000 # max images to print\n",
    "for imageName in glob.glob(f'./runs/detect/{keyword}/*.jpg'): #assuming JPG\n",
    "    if i < limit:\n",
    "      display(Image(filename=imageName))\n",
    "      print(\"\\n\")\n",
    "    i = i + 1"
   ]
  },
  {
   "cell_type": "markdown",
   "id": "1a8466ab-a279-448e-8329-ee51e749314f",
   "metadata": {},
   "source": [
    "***\n",
    "### Delete Cahce file (Re-Train with same images)"
   ]
  },
  {
   "cell_type": "code",
   "execution_count": null,
   "id": "f014154f-7af6-423f-890b-4da899fd037d",
   "metadata": {},
   "outputs": [],
   "source": [
    "img_folder_name"
   ]
  },
  {
   "cell_type": "code",
   "execution_count": 161,
   "id": "eb081292-3f46-4ee7-8c93-bbe3f2fc0ccc",
   "metadata": {},
   "outputs": [
    {
     "name": "stdin",
     "output_type": "stream",
     "text": [
      " AmogyFinder-4\n"
     ]
    }
   ],
   "source": [
    "img_folder_name = input()"
   ]
  },
  {
   "cell_type": "code",
   "execution_count": null,
   "id": "17744724-e875-4f7c-b9f5-ac64c04107bf",
   "metadata": {},
   "outputs": [],
   "source": [
    "!rm -rf /storage01/shared_data/users/junbeom/yolov7/images/{img_folder_name}/train/labels.cache\n",
    "!rm -rf /storage01/shared_data/users/junbeom/yolov7/images/{img_folder_name}/valid/labels.cache"
   ]
  },
  {
   "cell_type": "markdown",
   "id": "26d87199-172c-4ae6-9f4d-4075f4080ae3",
   "metadata": {},
   "source": [
    "***\n",
    "### Download curve.png (Later..)"
   ]
  },
  {
   "cell_type": "code",
   "execution_count": null,
   "id": "dbd40e93-49cf-472e-bff2-db6ae530dc9e",
   "metadata": {},
   "outputs": [],
   "source": [
    "cd /storage01/shared_data/users/junbeom/yolov7/runs/train/{keyword}"
   ]
  }
 ],
 "metadata": {
  "kernelspec": {
   "display_name": "Python 3 (ipykernel)",
   "language": "python",
   "name": "python3"
  },
  "language_info": {
   "codemirror_mode": {
    "name": "ipython",
    "version": 3
   },
   "file_extension": ".py",
   "mimetype": "text/x-python",
   "name": "python",
   "nbconvert_exporter": "python",
   "pygments_lexer": "ipython3",
   "version": "3.11.3"
  }
 },
 "nbformat": 4,
 "nbformat_minor": 5
}
